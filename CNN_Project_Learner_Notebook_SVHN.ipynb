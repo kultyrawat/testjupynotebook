{
 "cells": [
  {
   "cell_type": "markdown",
   "metadata": {
    "id": "Q91KqmCRu64D"
   },
   "source": [
    "# **Project - Convolutional Neural Networks: Street View Housing Number Digit Recognition**\n",
    "\n",
    "# Marks: 30\n",
    "\n",
    "Welcome to the project on classification using Convolutional Neural Networks. We will continue to work with the Street View Housing Numbers (SVHN) image dataset for this project.\n",
    "\n",
    "--------------\n",
    "### **Context:** \n",
    "--------------\n",
    "\n",
    "One of the most interesting tasks in deep learning is to recognize objects in natural scenes. The ability to process visual information using machine learning algorithms can be very useful as demonstrated in various applications.\n",
    "\n",
    "The SVHN dataset contains over 600,000 labeled digits cropped from street-level photos. It is one of the most popular image recognition datasets. It has been used in neural networks created by Google to improve map quality by automatically transcribing the address numbers from a patch of pixels. The transcribed number with a known street address helps pinpoint the location of the building it represents. \n",
    "\n",
    "----------------\n",
    "### **Objective:**\n",
    "----------------\n",
    "\n",
    "Build a CNN model that can identify the digits in the images.\n",
    "\n",
    "-------------\n",
    "### **Dataset**\n",
    "-------------\n",
    "Here, we will use a subset of the original data to save some computation time. The dataset is provided as a .h5 file. The basic preprocessing steps have been done."
   ]
  },
  {
   "cell_type": "markdown",
   "metadata": {
    "id": "8z2Z7-OAs8QG"
   },
   "source": [
    "## **Mount the drive**\n",
    "Let us start by mounting the drive and importing the necessary libraries."
   ]
  },
  {
   "cell_type": "code",
   "execution_count": 1,
   "metadata": {
    "colab": {
     "base_uri": "https://localhost:8080/"
    },
    "id": "03lDyQUuef7z",
    "outputId": "bebacd9d-ca97-4308-cc43-105ba483130a"
   },
   "outputs": [],
   "source": [
    "#from google.colab import drive\n",
    "#drive.mount('/content/drive')"
   ]
  },
  {
   "cell_type": "markdown",
   "metadata": {
    "id": "C8U3DUa3eNsT"
   },
   "source": [
    "## **Importing libraries**"
   ]
  },
  {
   "cell_type": "code",
   "execution_count": 2,
   "metadata": {
    "id": "-dVzeuF3eQx1"
   },
   "outputs": [],
   "source": [
    "import numpy as np\n",
    "import pandas as pd\n",
    "import matplotlib.pyplot as plt\n",
    "import seaborn as sns\n",
    "\n",
    "from sklearn.model_selection import train_test_split\n",
    "from sklearn.preprocessing import MinMaxScaler\n",
    "\n",
    "import tensorflow as tf\n",
    "from tensorflow.keras.models import Sequential\n",
    "from tensorflow.keras.layers import Dense, Conv2D, MaxPool2D, BatchNormalization, Dropout, Flatten, LeakyReLU\n",
    "from tensorflow.keras.utils import to_categorical"
   ]
  },
  {
   "cell_type": "markdown",
   "metadata": {
    "id": "ucnevGLoyKf_"
   },
   "source": [
    "Let us check for the version of TensorFlow."
   ]
  },
  {
   "cell_type": "code",
   "execution_count": 3,
   "metadata": {
    "colab": {
     "base_uri": "https://localhost:8080/"
    },
    "id": "W5as47YxyJVk",
    "outputId": "25cddd0e-36e3-40ba-b63d-55a140cf60d7"
   },
   "outputs": [
    {
     "name": "stdout",
     "output_type": "stream",
     "text": [
      "2.4.1\n"
     ]
    }
   ],
   "source": [
    "print(tf.__version__)"
   ]
  },
  {
   "cell_type": "markdown",
   "metadata": {
    "id": "8lsux2ZwyTTR"
   },
   "source": [
    "## **Load the dataset**\n",
    "- Let us now load the dataset that is available as a .h5 file.\n",
    "- Split the data into train and the test dataset"
   ]
  },
  {
   "cell_type": "code",
   "execution_count": 4,
   "metadata": {
    "id": "BApX9qgNsqV0",
    "scrolled": true
   },
   "outputs": [],
   "source": [
    "import h5py\n",
    "\n",
    "# Open the file as read only\n",
    "# User can make changes in the path as required\n",
    "h5f = h5py.File('SVHN_single_grey1.h5', 'r')\n",
    "\n",
    "# Load the training and the test set\n",
    "X_train = h5f['X_train'][:]\n",
    "y_train = h5f['y_train'][:]\n",
    "X_test = h5f['X_test'][:]\n",
    "y_test = h5f['y_test'][:]\n",
    "\n",
    "\n",
    "# Close this file\n",
    "h5f.close()"
   ]
  },
  {
   "cell_type": "code",
   "execution_count": 5,
   "metadata": {},
   "outputs": [
    {
     "data": {
      "text/plain": [
       "(18000,)"
      ]
     },
     "execution_count": 5,
     "metadata": {},
     "output_type": "execute_result"
    }
   ],
   "source": [
    "y_test.shape"
   ]
  },
  {
   "cell_type": "markdown",
   "metadata": {
    "id": "hVe0CYpUgj7w"
   },
   "source": [
    "Let's check the number of images in the training and testing data."
   ]
  },
  {
   "cell_type": "code",
   "execution_count": 6,
   "metadata": {
    "colab": {
     "base_uri": "https://localhost:8080/"
    },
    "id": "y3lwKpOefkpA",
    "outputId": "9c7b2146-6d61-4710-c2c3-f68ddfa0b942"
   },
   "outputs": [
    {
     "data": {
      "text/plain": [
       "(42000, 18000)"
      ]
     },
     "execution_count": 6,
     "metadata": {},
     "output_type": "execute_result"
    }
   ],
   "source": [
    "len(X_train), len(X_test)"
   ]
  },
  {
   "cell_type": "markdown",
   "metadata": {
    "id": "akTUOfLlgwoM"
   },
   "source": [
    "**Observations**\n",
    "- There are 42,000 images in the training data and 18,000 images in the testing data. "
   ]
  },
  {
   "cell_type": "markdown",
   "metadata": {
    "id": "kxODV6HKykuc"
   },
   "source": [
    "## **Visualizing images**\n",
    "- Use X_train to visualize the first 10 images\n",
    "- Use Y_train to print the first 10 labels"
   ]
  },
  {
   "cell_type": "markdown",
   "metadata": {
    "id": "Rn5IZYv-e2TC"
   },
   "source": [
    "#### **Question 1: Complete the below code to visualize the first 10 images from the training data (1 Mark)**"
   ]
  },
  {
   "cell_type": "code",
   "execution_count": 7,
   "metadata": {
    "colab": {
     "base_uri": "https://localhost:8080/",
     "height": 95
    },
    "id": "Bvsc8ytHsqWD",
    "outputId": "b00fa66c-c932-4803-8328-8dee0f5a2660"
   },
   "outputs": [
    {
     "data": {
      "image/png": "[encoded data removed]",
      "text/plain": [
       "<Figure size 720x72 with 10 Axes>"
      ]
     },
     "metadata": {
      "needs_background": "light"
     },
     "output_type": "display_data"
    },
    {
     "name": "stdout",
     "output_type": "stream",
     "text": [
      "label for each of the above image: [2 6 7 4 4 0 3 0 7 3]\n"
     ]
    }
   ],
   "source": [
    "# visualizing the first 10 images in the dataset and their labels\n",
    "plt.figure(figsize=(10, 1))\n",
    "\n",
    "for i in range(10):\n",
    "    plt.subplot(1, 10, i+1)\n",
    "    plt.imshow(X_train[i], cmap=\"gray\") # write the function to visualize images\n",
    "    plt.axis('off')\n",
    "\n",
    "plt.show()\n",
    "print('label for each of the above image: %s' % (y_train[0:10]))"
   ]
  },
  {
   "cell_type": "markdown",
   "metadata": {
    "id": "kzoyeXHOy80N"
   },
   "source": [
    "## **Data Preparation**\n",
    "\n",
    "- Print the first image in the train image and figure out the shape of the images\n",
    "- Reshape the train and the test dataset to make them fit the first convolutional operation that we will create later. Figure out the required shape\n",
    "- Normalize the train and the test dataset by dividing by 255\n",
    "- Print the new shapes of the train and the test set\n",
    "- One-hot encode the target variable"
   ]
  },
  {
   "cell_type": "code",
   "execution_count": 8,
   "metadata": {
    "colab": {
     "base_uri": "https://localhost:8080/"
    },
    "id": "NqndzQXng9rL",
    "outputId": "df42ba83-5331-4aa2-ed06-923531fb86d8"
   },
   "outputs": [
    {
     "name": "stdout",
     "output_type": "stream",
     "text": [
      "Shape: (32, 32)\n",
      "\n",
      "First image:\n",
      " [[ 33.0704  30.2601  26.852  ...  71.4471  58.2204  42.9939]\n",
      " [ 25.2283  25.5533  29.9765 ... 113.0209 103.3639  84.2949]\n",
      " [ 26.2775  22.6137  40.4763 ... 113.3028 121.775  115.4228]\n",
      " ...\n",
      " [ 28.5502  36.212   45.0801 ...  24.1359  25.0927  26.0603]\n",
      " [ 38.4352  26.4733  23.2717 ...  28.1094  29.4683  30.0661]\n",
      " [ 50.2984  26.0773  24.0389 ...  49.6682  50.853   53.0377]]\n"
     ]
    }
   ],
   "source": [
    "# Shape of the images and the first image\n",
    "\n",
    "print(\"Shape:\", X_train[0].shape)\n",
    "print()\n",
    "print(\"First image:\\n\", X_train[0])"
   ]
  },
  {
   "cell_type": "code",
   "execution_count": 9,
   "metadata": {
    "id": "D9YPwf9ysqWU"
   },
   "outputs": [],
   "source": [
    "# Reshaping the dataset to flatten them. Remember that we always have to give a 4D array as input to CNNs\n",
    "\n",
    "X_train = X_train.reshape(X_train.shape[0], 32,32,1)\n",
    "X_test = X_test.reshape(X_test.shape[0], 32,32,1)"
   ]
  },
  {
   "cell_type": "code",
   "execution_count": 10,
   "metadata": {
    "id": "q_yUUTp_mUzB"
   },
   "outputs": [],
   "source": [
    "# Normalize inputs from 0-255 to 0-1\n",
    "\n",
    "X_train = X_train / 255.0\n",
    "X_test = X_test / 255.0"
   ]
  },
  {
   "cell_type": "code",
   "execution_count": 11,
   "metadata": {
    "colab": {
     "base_uri": "https://localhost:8080/"
    },
    "id": "t7FSqOpamWkH",
    "outputId": "f93521cc-0694-43eb-f13c-74532af95f46"
   },
   "outputs": [
    {
     "name": "stdout",
     "output_type": "stream",
     "text": [
      "Training set: (42000, 32, 32, 1) (42000,)\n",
      "Test set: (18000, 32, 32, 1) (18000,)\n"
     ]
    }
   ],
   "source": [
    "# New shape \n",
    "\n",
    "print('Training set:', X_train.shape, y_train.shape)\n",
    "print('Test set:', X_test.shape, y_test.shape)"
   ]
  },
  {
   "cell_type": "markdown",
   "metadata": {
    "id": "YP92jacue2TE"
   },
   "source": [
    "#### **Question 2: One-hot encode the labels in the target variable y_train and y_test (2 Marks)**"
   ]
  },
  {
   "cell_type": "code",
   "execution_count": 12,
   "metadata": {
    "colab": {
     "base_uri": "https://localhost:8080/"
    },
    "id": "zL0lYER4sqWw",
    "outputId": "d2f4fb3a-b0d0-4150-85e3-3316603c2570"
   },
   "outputs": [
    {
     "data": {
      "text/plain": [
       "array([[0., 1., 0., ..., 0., 0., 0.],\n",
       "       [0., 0., 0., ..., 1., 0., 0.],\n",
       "       [0., 0., 1., ..., 0., 0., 0.],\n",
       "       ...,\n",
       "       [0., 0., 0., ..., 1., 0., 0.],\n",
       "       [0., 0., 0., ..., 0., 0., 1.],\n",
       "       [0., 0., 1., ..., 0., 0., 0.]], dtype=float32)"
      ]
     },
     "execution_count": 12,
     "metadata": {},
     "output_type": "execute_result"
    }
   ],
   "source": [
    "#Write the function and appropriate variable name to one-hot encode the output\n",
    "\n",
    "y_train = tf.keras.utils.to_categorical(y_train)\n",
    "y_test = tf.keras.utils.to_categorical(y_test)\n",
    "#test labels\n",
    "y_test"
   ]
  },
  {
   "cell_type": "code",
   "execution_count": 13,
   "metadata": {},
   "outputs": [
    {
     "data": {
      "text/plain": [
       "(18000, 10)"
      ]
     },
     "execution_count": 13,
     "metadata": {},
     "output_type": "execute_result"
    }
   ],
   "source": [
    "y_test.shape"
   ]
  },
  {
   "cell_type": "markdown",
   "metadata": {
    "id": "ViqPOTquCF76"
   },
   "source": [
    "- Notice that each entry of y_test is a one-hot encoded vector instead of a single label."
   ]
  },
  {
   "cell_type": "markdown",
   "metadata": {
    "id": "yH-gVrzuByNA"
   },
   "source": [
    "## **Model Building**\n",
    "\n",
    "Now, we have done data preprocessing, let's build a CNN model."
   ]
  },
  {
   "cell_type": "code",
   "execution_count": 14,
   "metadata": {
    "id": "eaGr-3Noe2TF"
   },
   "outputs": [],
   "source": [
    "#Fixing the seed for random number generators\n",
    "np.random.seed(42)\n",
    "import random\n",
    "random.seed(42)\n",
    "tf.random.set_seed(42)"
   ]
  },
  {
   "cell_type": "markdown",
   "metadata": {
    "id": "UJDUoaEj1d6e"
   },
   "source": [
    "### **Model Architecture**\n",
    "- Write a function that returns a sequential model with the following architecture\n",
    " - First Convolutional layer with **16 filters and kernel size of 3x3**. Use the **'same' padding** and provide an **apt input shape**\n",
    " - Add a **LeakyRelu layer** with the **slope equal to 0.1**\n",
    " - Second Convolutional layer with **32 filters and kernel size of 3x3 with 'same' padding**\n",
    " - Another **LeakyRelu** with the **slope equal to 0.1**\n",
    " - A **max-pooling layer** with a **pool size of 2x2**\n",
    " - **Flatten** the output from the previous layer\n",
    " - Add a **dense layer with 32 nodes**\n",
    " - Add a **LeakyRelu layer with slope equal to 0.1**\n",
    " - Add the final **output layer with nodes equal to the number of classes** and **softmax activation**\n",
    " - Compile the model with the **categorical_crossentropy loss, adam optimizers (learning_rate = 0.001), and accuracy metric**. Do not fit the model here, just return the compiled model\n",
    "- Call the function and store the model in a new variable\n",
    "- Print the summary of the model.\n",
    "- Fit the model on the train data with a **validation split of 0.2, batch size = 32, verbose = 1, and 20 epochs**. Store the model building history to use later for visualization."
   ]
  },
  {
   "cell_type": "markdown",
   "metadata": {
    "id": "Uw8pZcNwe2TG"
   },
   "source": [
    "#### **Question 3: Build and train a CNN model as per the above mentioned architecture (10 Marks)**"
   ]
  },
  {
   "cell_type": "code",
   "execution_count": 15,
   "metadata": {
    "id": "Cmi81Gr5sqW-"
   },
   "outputs": [],
   "source": [
    "#Importing losses and optimizers modules\n",
    "from tensorflow.keras import losses\n",
    "from tensorflow.keras import optimizers\n",
    "\n",
    "#Define the function\n",
    "def cnn_model_1():\n",
    "    model = Sequential() \n",
    "    \n",
    "    #Adding the first Convolutional layer with 16 filters and kernel size of 3x3\n",
    "    model.add(Conv2D(filters=16, kernel_size=(3, 3), padding=\"same\", input_shape=(32, 32, 1)))\n",
    "   \n",
    "    # adding leaky relu activation function with negative slope of 0.1\n",
    "    model.add(LeakyReLU(0.1))\n",
    "    \n",
    "    # adding second conv layer with 32 filters and with kernel size 3x3\n",
    "    model.add(Conv2D(filters=32, kernel_size=(3, 3), padding='same'))\n",
    "    \n",
    "    # adding leaky relu activation function with negative slope of 0.1\n",
    "    model.add(LeakyReLU(0.1))\n",
    "    \n",
    "    # adding max pooling to reduce the size of output of second conv layer\n",
    "    model.add(MaxPool2D(pool_size=(2, 2)))\n",
    "\n",
    "    # flattening the 3-d output of the conv layer after max pooling to make it ready for creating dense connections\n",
    "    model.add(Flatten())\n",
    "\n",
    "    # adding a fully connected dense layer with 32 nodes    \n",
    "    model.add(Dense(32))\n",
    "\n",
    "    # adding leaky relu activation function with negative slope of 0.1\n",
    "    model.add(LeakyReLU(0.1))\n",
    "\n",
    "    # adding the output layer with 10 neurons and activation functions as softmax since this is a multi-class classification problem\n",
    "    model.add(Dense(10, activation='softmax'))\n",
    "    \n",
    "    #declare adam optimizer with learning rate of 0.001 \n",
    "    adam = optimizers.Adam(learning_rate=0.001)\n",
    "    \n",
    "    #compile the model\n",
    "    model.compile(optimizer=adam, loss=\"categorical_crossentropy\", metrics=[\"accuracy\"])\n",
    "        \n",
    "    return model"
   ]
  },
  {
   "cell_type": "code",
   "execution_count": 16,
   "metadata": {
    "id": "bGCUI_xsImnH"
   },
   "outputs": [],
   "source": [
    "#Build the model\n",
    "model_1 = cnn_model_1()"
   ]
  },
  {
   "cell_type": "code",
   "execution_count": 17,
   "metadata": {
    "id": "ckJsLdmdQadZ"
   },
   "outputs": [
    {
     "name": "stdout",
     "output_type": "stream",
     "text": [
      "Model: \"sequential\"\n",
      "_________________________________________________________________\n",
      "Layer (type)                 Output Shape              Param #   \n",
      "=================================================================\n",
      "conv2d (Conv2D)              (None, 32, 32, 16)        160       \n",
      "_________________________________________________________________\n",
      "leaky_re_lu (LeakyReLU)      (None, 32, 32, 16)        0         \n",
      "_________________________________________________________________\n",
      "conv2d_1 (Conv2D)            (None, 32, 32, 32)        4640      \n",
      "_________________________________________________________________\n",
      "leaky_re_lu_1 (LeakyReLU)    (None, 32, 32, 32)        0         \n",
      "_________________________________________________________________\n",
      "max_pooling2d (MaxPooling2D) (None, 16, 16, 32)        0         \n",
      "_________________________________________________________________\n",
      "flatten (Flatten)            (None, 8192)              0         \n",
      "_________________________________________________________________\n",
      "dense (Dense)                (None, 32)                262176    \n",
      "_________________________________________________________________\n",
      "leaky_re_lu_2 (LeakyReLU)    (None, 32)                0         \n",
      "_________________________________________________________________\n",
      "dense_1 (Dense)              (None, 10)                330       \n",
      "=================================================================\n",
      "Total params: 267,306\n",
      "Trainable params: 267,306\n",
      "Non-trainable params: 0\n",
      "_________________________________________________________________\n"
     ]
    }
   ],
   "source": [
    "#Print the model summary\n",
    "model_1.summary()"
   ]
  },
  {
   "cell_type": "code",
   "execution_count": 18,
   "metadata": {
    "id": "3Fy3Dif_zcCk"
   },
   "outputs": [
    {
     "name": "stdout",
     "output_type": "stream",
     "text": [
      "Epoch 1/20\n",
      "1050/1050 [==============================] - 21s 19ms/step - loss: 1.7241 - accuracy: 0.3878 - val_loss: 0.6186 - val_accuracy: 0.8218\n",
      "Epoch 2/20\n",
      "1050/1050 [==============================] - 19s 18ms/step - loss: 0.5311 - accuracy: 0.8467 - val_loss: 0.5038 - val_accuracy: 0.8601\n",
      "Epoch 3/20\n",
      "1050/1050 [==============================] - 19s 18ms/step - loss: 0.4341 - accuracy: 0.8713 - val_loss: 0.4836 - val_accuracy: 0.8612\n",
      "Epoch 4/20\n",
      "1050/1050 [==============================] - 19s 18ms/step - loss: 0.3579 - accuracy: 0.8966 - val_loss: 0.4464 - val_accuracy: 0.8783\n",
      "Epoch 5/20\n",
      "1050/1050 [==============================] - 19s 18ms/step - loss: 0.3195 - accuracy: 0.9031 - val_loss: 0.4752 - val_accuracy: 0.8667\n",
      "Epoch 6/20\n",
      "1050/1050 [==============================] - 19s 18ms/step - loss: 0.2828 - accuracy: 0.9168 - val_loss: 0.4755 - val_accuracy: 0.8711\n",
      "Epoch 7/20\n",
      "1050/1050 [==============================] - 20s 19ms/step - loss: 0.2459 - accuracy: 0.9249 - val_loss: 0.4466 - val_accuracy: 0.8833\n",
      "Epoch 8/20\n",
      "1050/1050 [==============================] - 20s 19ms/step - loss: 0.2251 - accuracy: 0.9329 - val_loss: 0.4882 - val_accuracy: 0.8712\n",
      "Epoch 9/20\n",
      "1050/1050 [==============================] - 19s 18ms/step - loss: 0.2032 - accuracy: 0.9372 - val_loss: 0.4876 - val_accuracy: 0.8758\n",
      "Epoch 10/20\n",
      "1050/1050 [==============================] - 19s 18ms/step - loss: 0.1815 - accuracy: 0.9446 - val_loss: 0.5005 - val_accuracy: 0.8789\n",
      "Epoch 11/20\n",
      "1050/1050 [==============================] - 19s 18ms/step - loss: 0.1646 - accuracy: 0.9504 - val_loss: 0.5520 - val_accuracy: 0.8737\n",
      "Epoch 12/20\n",
      "1050/1050 [==============================] - 19s 18ms/step - loss: 0.1384 - accuracy: 0.9575 - val_loss: 0.5741 - val_accuracy: 0.8661\n",
      "Epoch 13/20\n",
      "1050/1050 [==============================] - 20s 19ms/step - loss: 0.1253 - accuracy: 0.9611 - val_loss: 0.5967 - val_accuracy: 0.8713\n",
      "Epoch 14/20\n",
      "1050/1050 [==============================] - 20s 19ms/step - loss: 0.1241 - accuracy: 0.9611 - val_loss: 0.6219 - val_accuracy: 0.8700\n",
      "Epoch 15/20\n",
      "1050/1050 [==============================] - 19s 19ms/step - loss: 0.1059 - accuracy: 0.9681 - val_loss: 0.6335 - val_accuracy: 0.8780\n",
      "Epoch 16/20\n",
      "1050/1050 [==============================] - 20s 19ms/step - loss: 0.0909 - accuracy: 0.9713 - val_loss: 0.6878 - val_accuracy: 0.8688\n",
      "Epoch 17/20\n",
      "1050/1050 [==============================] - 19s 18ms/step - loss: 0.0820 - accuracy: 0.9736 - val_loss: 0.7079 - val_accuracy: 0.8730\n",
      "Epoch 18/20\n",
      "1050/1050 [==============================] - 20s 19ms/step - loss: 0.0818 - accuracy: 0.9739 - val_loss: 0.7690 - val_accuracy: 0.8686\n",
      "Epoch 19/20\n",
      "1050/1050 [==============================] - 19s 18ms/step - loss: 0.0727 - accuracy: 0.9762 - val_loss: 0.7794 - val_accuracy: 0.8681\n",
      "Epoch 20/20\n",
      "1050/1050 [==============================] - 19s 18ms/step - loss: 0.0664 - accuracy: 0.9786 - val_loss: 0.7971 - val_accuracy: 0.8655\n"
     ]
    }
   ],
   "source": [
    "# Fit the model\n",
    "#with validation split of 0.2, batch size = 32, verbose = 1, and 20 epochs. \n",
    "history_model_1 = model_1.fit(X_train, y_train, epochs=20, validation_split=0.2, batch_size=32, verbose=1)"
   ]
  },
  {
   "cell_type": "markdown",
   "metadata": {
    "id": "tKOckG-KPyLg"
   },
   "source": [
    "### **Plotting the validation and training accuracies**"
   ]
  },
  {
   "cell_type": "markdown",
   "metadata": {
    "id": "sVyQ9Gpge2TI"
   },
   "source": [
    "#### **Question 4: Write your observations on the below plot (2 Marks)**"
   ]
  },
  {
   "cell_type": "code",
   "execution_count": 19,
   "metadata": {
    "colab": {
     "base_uri": "https://localhost:8080/",
     "height": 497
    },
    "id": "lt77zgGMP4yw",
    "outputId": "a1ea1a96-0d43-403d-a192-1a40676c315e"
   },
   "outputs": [
    {
     "data": {
      "image/png": "[encoded data removed]",
      "text/plain": [
       "<Figure size 576x576 with 1 Axes>"
      ]
     },
     "metadata": {
      "needs_background": "light"
     },
     "output_type": "display_data"
    }
   ],
   "source": [
    "# plotting the accuracies\n",
    "\n",
    "dict_hist = history_model_1.history\n",
    "list_ep = [i for i in range(1,21)]\n",
    "\n",
    "plt.figure(figsize = (8,8))\n",
    "plt.plot(list_ep,dict_hist['accuracy'],ls = '--', label = 'accuracy')\n",
    "plt.plot(list_ep,dict_hist['val_accuracy'],ls = '--', label = 'val_accuracy')\n",
    "plt.ylabel('Accuracy')\n",
    "plt.xlabel('Epochs')\n",
    "plt.legend()\n",
    "plt.show()"
   ]
  },
  {
   "cell_type": "markdown",
   "metadata": {
    "id": "pGBbQpLONX7k"
   },
   "source": [
    "**Observations:**\n",
    "- We can see from the above plot that **the model has done poorly on the validation data.**\n",
    "- Validation accuracy is also fluctuating, not showing any significant improvement with epoch. This may indicate that, we need to explore a more complex architecture\n",
    "- The training loss is decreasing. However, the **validation loss is increasing.**\n",
    "- This indicates that the model is overfitting. It continues to get better and better at fitting the data that it sees (training data) while getting worse and worse at fitting the data that it does not see (validation data).\n",
    "- We could solve this by including **additional layers to the existing architecture, introducting regularization (Dropout) and normalizing (Batch Normalization)** inputs to layers withing the network.  This will simplify creation of deeper network to produce better results."
   ]
  },
  {
   "cell_type": "markdown",
   "metadata": {
    "id": "z0qgLMBZm5-K"
   },
   "source": [
    "Let's build another model and see if we can get a better model with generalized performance.\n",
    "\n",
    "First, we need to clear the previous model's history from the keras backend. Also, let's fix the seed again after clearing the backend."
   ]
  },
  {
   "cell_type": "code",
   "execution_count": 20,
   "metadata": {
    "id": "y98BpLxsok_H"
   },
   "outputs": [],
   "source": [
    "#Clearing backend\n",
    "from tensorflow.keras import backend\n",
    "backend.clear_session()"
   ]
  },
  {
   "cell_type": "code",
   "execution_count": 21,
   "metadata": {
    "id": "HbKi93HTolGW"
   },
   "outputs": [],
   "source": [
    "#Fixing the seed for random number generators\n",
    "np.random.seed(42)\n",
    "import random\n",
    "random.seed(42)\n",
    "tf.random.set_seed(42)"
   ]
  },
  {
   "cell_type": "markdown",
   "metadata": {
    "id": "lT6o3TIKuCtk"
   },
   "source": [
    "### **Second Model Architecture**\n",
    "- Write a function that returns a sequential model with the following architecture\n",
    " - First Convolutional layer with **16 filters and kernel size of 3x3**. Use the **'same' padding** and provide an **apt input shape**\n",
    " - Add a **LeakyRelu layer** with the **slope equal to 0.1**\n",
    " - Second Convolutional layer with **32 filters and kernel size of 3x3 with 'same' padding**\n",
    " - Add **LeakyRelu** with the **slope equal to 0.1**\n",
    " - Add a **max-pooling layer** with a **pool size of 2x2**\n",
    " - Add a **BatchNormalization layer**\n",
    " - Third Convolutional layer with **32 filters and kernel size of 3x3 with 'same' padding**\n",
    " - Add a **LeakyRelu layer with slope equal to 0.1**\n",
    " - Fourth Convolutional layer **64 filters and kernel size of 3x3 with 'same' padding** \n",
    " - Add a **LeakyRelu layer with slope equal to 0.1**\n",
    " - Add a **max-pooling layer** with a **pool size of 2x2**\n",
    " - Add a **BatchNormalization layer**\n",
    " - **Flatten** the output from the previous layer\n",
    " - Add a **dense layer with 32 nodes**\n",
    " - Add a **LeakyRelu layer with slope equal to 0.1**\n",
    " - Add a **dropout layer with rate equal to 0.5**\n",
    " - Add the final **output layer with nodes equal to the number of classes** and **softmax activation**\n",
    " - Compile the model with the **categorical_crossentropy loss, adam optimizers (learning_rate = 0.001), and accuracy metric**. Do not fit the model here, just return the compiled model\n",
    "- Call the function and store the model in a new variable\n",
    "- Print the summary of the model.\n",
    "- Fit the model on the train data with a **validation split of 0.2, batch size = 128, verbose = 1, and 30 epochs**. Store the model building history to use later for visualization."
   ]
  },
  {
   "cell_type": "markdown",
   "metadata": {
    "id": "Sr-bwBT2e2TJ"
   },
   "source": [
    "#### **Question 5: Build and train the second CNN model as per the above mentioned architecture (10 Marks)**"
   ]
  },
  {
   "cell_type": "code",
   "execution_count": 22,
   "metadata": {
    "id": "EEPYLFIPnSDP"
   },
   "outputs": [],
   "source": [
    "#Define the function\n",
    "\n",
    "def cnn_model_2():\n",
    "    model = Sequential() \n",
    "    #Add layers as per the architecture mentioned above in the same sequence\n",
    "    \n",
    "    #Add layers as per the architecture mentioned above in the same sequence\n",
    "    model.add(Conv2D(filters=16, kernel_size=(3, 3), padding=\"same\", input_shape=(32, 32, 1)))\n",
    "   \n",
    "    # adding leaky relu activation function with negative slope of 0.1\n",
    "    model.add(LeakyReLU(0.1))\n",
    "    \n",
    "    # adding second conv layer with 32 filters and with kernel size 3x3\n",
    "    model.add(Conv2D(filters=32, kernel_size=(3, 3), padding='same'))\n",
    "    \n",
    "    # adding leaky relu activation function with negative slope of 0.1\n",
    "    model.add(LeakyReLU(0.1))\n",
    "    \n",
    "    # adding max pooling to reduce the size of output of second conv layer\n",
    "    model.add(MaxPool2D(pool_size=(2, 2)))\n",
    "    \n",
    "    # adding batch normalization layer\n",
    "    model.add(BatchNormalization())\n",
    "        \n",
    "     # adding third conv layer with 32 filters and with kernel size 3x3\n",
    "    model.add(Conv2D(filters=32, kernel_size=(3, 3), padding='same'))\n",
    "    \n",
    "     # adding leaky relu activation function with negative slope of 0.1\n",
    "    model.add(LeakyReLU(0.1))\n",
    "    \n",
    "    #Fourth Convolutional layer 64 filters and kernel size of 3x3 with 'same' padding\n",
    "    model.add(Conv2D(filters=64, kernel_size=(3, 3), padding='same'))\n",
    "    \n",
    "    # adding leaky relu activation function with negative slope of 0.1\n",
    "    model.add(LeakyReLU(0.1))\n",
    "    \n",
    "     # adding max pooling to reduce the size of output of second conv layer\n",
    "    model.add(MaxPool2D(pool_size=(2, 2)))\n",
    "    \n",
    "    #Add a BatchNormalization layer\n",
    "    model.add(BatchNormalization())\n",
    "    \n",
    "    #Flatten the output from the previous layer\n",
    "    model.add(Flatten())\n",
    "\n",
    "    # adding a fully connected dense layer with 32 nodes    \n",
    "    model.add(Dense(32))\n",
    "\n",
    "    # adding leaky relu activation function with negative slope of 0.1\n",
    "    model.add(LeakyReLU(0.1))\n",
    "    \n",
    "    #Add a dropout layer with rate equal to 0.5 to reduce overfitting\n",
    "    model.add(Dropout(0.5))\n",
    "\n",
    "    # adding the output layer with 10 neurons and activation functions as softmax since this is a multi-class classification problem\n",
    "    model.add(Dense(10, activation='softmax'))\n",
    "    \n",
    "    \n",
    "     #declare adam optimizer with learning rate of 0.001 \n",
    "    adam = optimizers.Adam(learning_rate=0.001)\n",
    "    \n",
    "    #compile the model\n",
    "    model.compile(optimizer=adam, loss=\"categorical_crossentropy\", metrics=[\"accuracy\"])\n",
    "    \n",
    "    return model"
   ]
  },
  {
   "cell_type": "code",
   "execution_count": 23,
   "metadata": {
    "id": "AKjDY4plnSFl"
   },
   "outputs": [],
   "source": [
    "# Build the model\n",
    "model_2 = cnn_model_2()"
   ]
  },
  {
   "cell_type": "code",
   "execution_count": 24,
   "metadata": {
    "id": "gz_6SVrU2swZ"
   },
   "outputs": [
    {
     "name": "stdout",
     "output_type": "stream",
     "text": [
      "Model: \"sequential\"\n",
      "_________________________________________________________________\n",
      "Layer (type)                 Output Shape              Param #   \n",
      "=================================================================\n",
      "conv2d (Conv2D)              (None, 32, 32, 16)        160       \n",
      "_________________________________________________________________\n",
      "leaky_re_lu (LeakyReLU)      (None, 32, 32, 16)        0         \n",
      "_________________________________________________________________\n",
      "conv2d_1 (Conv2D)            (None, 32, 32, 32)        4640      \n",
      "_________________________________________________________________\n",
      "leaky_re_lu_1 (LeakyReLU)    (None, 32, 32, 32)        0         \n",
      "_________________________________________________________________\n",
      "max_pooling2d (MaxPooling2D) (None, 16, 16, 32)        0         \n",
      "_________________________________________________________________\n",
      "batch_normalization (BatchNo (None, 16, 16, 32)        128       \n",
      "_________________________________________________________________\n",
      "conv2d_2 (Conv2D)            (None, 16, 16, 32)        9248      \n",
      "_________________________________________________________________\n",
      "leaky_re_lu_2 (LeakyReLU)    (None, 16, 16, 32)        0         \n",
      "_________________________________________________________________\n",
      "conv2d_3 (Conv2D)            (None, 16, 16, 64)        18496     \n",
      "_________________________________________________________________\n",
      "leaky_re_lu_3 (LeakyReLU)    (None, 16, 16, 64)        0         \n",
      "_________________________________________________________________\n",
      "max_pooling2d_1 (MaxPooling2 (None, 8, 8, 64)          0         \n",
      "_________________________________________________________________\n",
      "batch_normalization_1 (Batch (None, 8, 8, 64)          256       \n",
      "_________________________________________________________________\n",
      "flatten (Flatten)            (None, 4096)              0         \n",
      "_________________________________________________________________\n",
      "dense (Dense)                (None, 32)                131104    \n",
      "_________________________________________________________________\n",
      "leaky_re_lu_4 (LeakyReLU)    (None, 32)                0         \n",
      "_________________________________________________________________\n",
      "dropout (Dropout)            (None, 32)                0         \n",
      "_________________________________________________________________\n",
      "dense_1 (Dense)              (None, 10)                330       \n",
      "=================================================================\n",
      "Total params: 164,362\n",
      "Trainable params: 164,170\n",
      "Non-trainable params: 192\n",
      "_________________________________________________________________\n"
     ]
    }
   ],
   "source": [
    "#Print the summary\n",
    "model_2.summary()"
   ]
  },
  {
   "cell_type": "code",
   "execution_count": 25,
   "metadata": {
    "id": "IQ0Sc4R-y-uu"
   },
   "outputs": [
    {
     "name": "stdout",
     "output_type": "stream",
     "text": [
      "Epoch 1/30\n",
      "263/263 [==============================] - 30s 113ms/step - loss: 2.0168 - accuracy: 0.2974 - val_loss: 3.0699 - val_accuracy: 0.2365\n",
      "Epoch 2/30\n",
      "263/263 [==============================] - 29s 110ms/step - loss: 0.7327 - accuracy: 0.7688 - val_loss: 0.6743 - val_accuracy: 0.8051\n",
      "Epoch 3/30\n",
      "263/263 [==============================] - 29s 111ms/step - loss: 0.5757 - accuracy: 0.8229 - val_loss: 0.4524 - val_accuracy: 0.8696\n",
      "Epoch 4/30\n",
      "263/263 [==============================] - 29s 109ms/step - loss: 0.4909 - accuracy: 0.8463 - val_loss: 0.4888 - val_accuracy: 0.8564\n",
      "Epoch 5/30\n",
      "263/263 [==============================] - 29s 110ms/step - loss: 0.4553 - accuracy: 0.8600 - val_loss: 0.3985 - val_accuracy: 0.8880\n",
      "Epoch 6/30\n",
      "263/263 [==============================] - 29s 110ms/step - loss: 0.4204 - accuracy: 0.8692 - val_loss: 0.4039 - val_accuracy: 0.8867\n",
      "Epoch 7/30\n",
      "263/263 [==============================] - 29s 110ms/step - loss: 0.3713 - accuracy: 0.8845 - val_loss: 0.4498 - val_accuracy: 0.8827\n",
      "Epoch 8/30\n",
      "263/263 [==============================] - 29s 110ms/step - loss: 0.3541 - accuracy: 0.8895 - val_loss: 0.3838 - val_accuracy: 0.8914\n",
      "Epoch 9/30\n",
      "263/263 [==============================] - 29s 109ms/step - loss: 0.3262 - accuracy: 0.8971 - val_loss: 0.3907 - val_accuracy: 0.8942\n",
      "Epoch 10/30\n",
      "263/263 [==============================] - 29s 111ms/step - loss: 0.3072 - accuracy: 0.9045 - val_loss: 0.3605 - val_accuracy: 0.9042\n",
      "Epoch 11/30\n",
      "263/263 [==============================] - 29s 110ms/step - loss: 0.2945 - accuracy: 0.9085 - val_loss: 0.3939 - val_accuracy: 0.8975\n",
      "Epoch 12/30\n",
      "263/263 [==============================] - 31s 117ms/step - loss: 0.2700 - accuracy: 0.9167 - val_loss: 0.3998 - val_accuracy: 0.9019\n",
      "Epoch 13/30\n",
      "263/263 [==============================] - 30s 114ms/step - loss: 0.2712 - accuracy: 0.9124 - val_loss: 0.3937 - val_accuracy: 0.9060\n",
      "Epoch 14/30\n",
      "263/263 [==============================] - 30s 115ms/step - loss: 0.2571 - accuracy: 0.9190 - val_loss: 0.4753 - val_accuracy: 0.8789\n",
      "Epoch 15/30\n",
      "263/263 [==============================] - 29s 110ms/step - loss: 0.2420 - accuracy: 0.9218 - val_loss: 0.3874 - val_accuracy: 0.9083\n",
      "Epoch 16/30\n",
      "263/263 [==============================] - 29s 110ms/step - loss: 0.2295 - accuracy: 0.9277 - val_loss: 0.3459 - val_accuracy: 0.9074\n",
      "Epoch 17/30\n",
      "263/263 [==============================] - 29s 111ms/step - loss: 0.2240 - accuracy: 0.9242 - val_loss: 0.3928 - val_accuracy: 0.9052\n",
      "Epoch 18/30\n",
      "263/263 [==============================] - 29s 110ms/step - loss: 0.2139 - accuracy: 0.9276 - val_loss: 0.3835 - val_accuracy: 0.9029\n",
      "Epoch 19/30\n",
      "263/263 [==============================] - 29s 110ms/step - loss: 0.2094 - accuracy: 0.9308 - val_loss: 0.4009 - val_accuracy: 0.9093\n",
      "Epoch 20/30\n",
      "263/263 [==============================] - 29s 110ms/step - loss: 0.1994 - accuracy: 0.9356 - val_loss: 0.3975 - val_accuracy: 0.9085\n",
      "Epoch 21/30\n",
      "263/263 [==============================] - 29s 109ms/step - loss: 0.1909 - accuracy: 0.9371 - val_loss: 0.3787 - val_accuracy: 0.9104\n",
      "Epoch 22/30\n",
      "263/263 [==============================] - 29s 110ms/step - loss: 0.1798 - accuracy: 0.9405 - val_loss: 0.4691 - val_accuracy: 0.8811\n",
      "Epoch 23/30\n",
      "263/263 [==============================] - 29s 111ms/step - loss: 0.1843 - accuracy: 0.9406 - val_loss: 0.4541 - val_accuracy: 0.9040\n",
      "Epoch 24/30\n",
      "263/263 [==============================] - 29s 109ms/step - loss: 0.1650 - accuracy: 0.9464 - val_loss: 0.4500 - val_accuracy: 0.9098\n",
      "Epoch 25/30\n",
      "263/263 [==============================] - 29s 110ms/step - loss: 0.1608 - accuracy: 0.9431 - val_loss: 0.4190 - val_accuracy: 0.9077\n",
      "Epoch 26/30\n",
      "263/263 [==============================] - 29s 110ms/step - loss: 0.1573 - accuracy: 0.9472 - val_loss: 0.4710 - val_accuracy: 0.8932\n",
      "Epoch 27/30\n",
      "263/263 [==============================] - 29s 110ms/step - loss: 0.1635 - accuracy: 0.9436 - val_loss: 0.5361 - val_accuracy: 0.8925\n",
      "Epoch 28/30\n",
      "263/263 [==============================] - 29s 110ms/step - loss: 0.1657 - accuracy: 0.9463 - val_loss: 0.5124 - val_accuracy: 0.9057\n",
      "Epoch 29/30\n",
      "263/263 [==============================] - 29s 111ms/step - loss: 0.1496 - accuracy: 0.9504 - val_loss: 0.4110 - val_accuracy: 0.9137\n",
      "Epoch 30/30\n",
      "263/263 [==============================] - 29s 110ms/step - loss: 0.1445 - accuracy: 0.9518 - val_loss: 0.4892 - val_accuracy: 0.9118\n"
     ]
    }
   ],
   "source": [
    "# Fit the model\n",
    "history_model_2 = model_2.fit(X_train, y_train, epochs=30, validation_split=0.2, batch_size=128, verbose=1)"
   ]
  },
  {
   "cell_type": "markdown",
   "metadata": {
    "id": "0_f1EXmTe2TK"
   },
   "source": [
    "### **Plotting the validation and training accuracies**"
   ]
  },
  {
   "cell_type": "markdown",
   "metadata": {
    "id": "aC5UbsqXe2TK"
   },
   "source": [
    "#### **Question 6: Write your observations on the below plot (2 Marks)**"
   ]
  },
  {
   "cell_type": "code",
   "execution_count": 26,
   "metadata": {
    "colab": {
     "base_uri": "https://localhost:8080/",
     "height": 497
    },
    "id": "01ig6BrF1KVy",
    "outputId": "07d88750-f1a7-4042-8a52-686764ee9aaf"
   },
   "outputs": [
    {
     "data": {
      "image/png": "[encoded data removed]",
      "text/plain": [
       "<Figure size 576x576 with 1 Axes>"
      ]
     },
     "metadata": {
      "needs_background": "light"
     },
     "output_type": "display_data"
    }
   ],
   "source": [
    "# plotting the accuracies\n",
    "\n",
    "dict_hist = history_model_2.history\n",
    "list_ep = [i for i in range(1,31)]\n",
    "\n",
    "plt.figure(figsize = (8,8))\n",
    "plt.plot(list_ep,dict_hist['accuracy'],ls = '--', label = 'accuracy')\n",
    "plt.plot(list_ep,dict_hist['val_accuracy'],ls = '--', label = 'val_accuracy')\n",
    "plt.ylabel('Accuracy')\n",
    "plt.xlabel('Epochs')\n",
    "plt.legend()\n",
    "plt.show()"
   ]
  },
  {
   "cell_type": "markdown",
   "metadata": {
    "id": "VPW1LlD61RDn"
   },
   "source": [
    "**Observations:**\n",
    "- The second model **with dropoput and batch normalization have provided better training and validation accuracy compared to the first model.**\n",
    "- The **validation accuracy has increased significantly (4.3% increase) compared to previous model after 20 epochs.**\n",
    "- The plot also shows that validation accuracy is fluctuating. \n",
    "- Further **hypertuning such as trying different dropout rates and learning rates** should be explored to see if the model can identify even subtle differences in different digit images and achieve better performance.\n",
    "- We should also look into trying different layer structures."
   ]
  },
  {
   "cell_type": "markdown",
   "metadata": {
    "id": "8kuXx9Bvu00f"
   },
   "source": [
    "## **Predictions on the test data**\n",
    "\n",
    "- Make predictions on the test set using the second model\n",
    "- Print the obtained results using the classification report and the confusion matrix\n",
    "- Final observations from the obtained results"
   ]
  },
  {
   "cell_type": "markdown",
   "metadata": {
    "id": "yfZwC9OUe2TL"
   },
   "source": [
    "#### **Question 7: Make predictions on the test data using the second model (1 Mark)**"
   ]
  },
  {
   "cell_type": "code",
   "execution_count": 27,
   "metadata": {
    "id": "xbWMEtTj5Ad0"
   },
   "outputs": [],
   "source": [
    "#Make prediction on the test data using model_2 \n",
    "test_pred = model_2.predict(X_test)\n",
    "\n",
    "test_pred = np.argmax(test_pred, axis=-1)"
   ]
  },
  {
   "cell_type": "markdown",
   "metadata": {
    "id": "i3li8Ib08yts"
   },
   "source": [
    "**Note:** Earlier, we noticed that each entry of the test data is a one-hot encoded vector but to print the classification report and confusion matrix, we must convert each entry of y_test to a single label."
   ]
  },
  {
   "cell_type": "code",
   "execution_count": 28,
   "metadata": {
    "id": "NByu7uAQ8x9P"
   },
   "outputs": [],
   "source": [
    "#Converting each entry to single label from one-hot encoded vector\n",
    "y_test = np.argmax(y_test, axis=-1)"
   ]
  },
  {
   "cell_type": "markdown",
   "metadata": {
    "id": "yHDUEma0e2TM"
   },
   "source": [
    "#### **Question 8: Write your final observations on the performance of the model on the test data (2 Marks)**"
   ]
  },
  {
   "cell_type": "code",
   "execution_count": 29,
   "metadata": {
    "colab": {
     "base_uri": "https://localhost:8080/",
     "height": 620
    },
    "id": "xRddeJ-3EHT1",
    "outputId": "a5f974ce-9724-4f70-80fb-fa90e7412768"
   },
   "outputs": [
    {
     "name": "stdout",
     "output_type": "stream",
     "text": [
      "              precision    recall  f1-score   support\n",
      "\n",
      "           0       0.90      0.95      0.92      1814\n",
      "           1       0.90      0.91      0.90      1828\n",
      "           2       0.94      0.92      0.93      1803\n",
      "           3       0.94      0.86      0.89      1719\n",
      "           4       0.92      0.94      0.93      1812\n",
      "           5       0.91      0.92      0.91      1768\n",
      "           6       0.86      0.92      0.89      1832\n",
      "           7       0.94      0.93      0.93      1808\n",
      "           8       0.94      0.88      0.91      1812\n",
      "           9       0.89      0.91      0.90      1804\n",
      "\n",
      "    accuracy                           0.91     18000\n",
      "   macro avg       0.91      0.91      0.91     18000\n",
      "weighted avg       0.91      0.91      0.91     18000\n",
      "\n"
     ]
    },
    {
     "data": {
      "image/png": "[encoded data removed]",
      "text/plain": [
       "<Figure size 576x360 with 2 Axes>"
      ]
     },
     "metadata": {
      "needs_background": "light"
     },
     "output_type": "display_data"
    }
   ],
   "source": [
    "#importing required functions\n",
    "from sklearn.metrics import classification_report\n",
    "from sklearn.metrics import confusion_matrix\n",
    "\n",
    "#Printing the classification report\n",
    "print(classification_report(y_test, test_pred))\n",
    "\n",
    "#Plotting the heatmap using confusion matrix\n",
    "cm = confusion_matrix(y_test, test_pred)\n",
    "plt.figure(figsize=(8,5))\n",
    "sns.heatmap(cm, annot=True,  fmt='.0f')\n",
    "plt.ylabel('Actual')\n",
    "plt.xlabel('Predicted')\n",
    "plt.show()"
   ]
  },
  {
   "cell_type": "markdown",
   "metadata": {
    "id": "DjErl4GA2u9s"
   },
   "source": [
    "#### **Observations:**\n",
    "- The classification report shows the classification metrics - precision, recall, f1-score for each digit class. \n",
    "- We can see that class 2 (digit 2) and class 7 (digit 7) have the highest f1-score of 93%. \n",
    "- Class 6 (digit 6) has the lowest precision and class 3 (digit 3) has the lowest recall. \n",
    "- The model recognizes correctly over 94% digits that are \"0\".\n",
    "- The confusion matrix shows that the model has predicted 5% of images that were digit 8 as digit 6. \n",
    "- The overall accuracy on the test data is 91% (not bad) which is approximately the same as the validation accuracy.\n"
   ]
  }
 ],
 "metadata": {
  "accelerator": "GPU",
  "colab": {
   "collapsed_sections": [
    "8z2Z7-OAs8QG",
    "C8U3DUa3eNsT",
    "8lsux2ZwyTTR",
    "kxODV6HKykuc",
    "Rn5IZYv-e2TC",
    "kzoyeXHOy80N",
    "YP92jacue2TE",
    "yH-gVrzuByNA",
    "Uw8pZcNwe2TG",
    "sVyQ9Gpge2TI",
    "lT6o3TIKuCtk",
    "Sr-bwBT2e2TJ",
    "aC5UbsqXe2TK",
    "8kuXx9Bvu00f",
    "yfZwC9OUe2TL",
    "yHDUEma0e2TM"
   ],
   "name": "CNN_Project_Learner_Notebook_SVHN.ipynb",
   "provenance": []
  },
  "kernelspec": {
   "display_name": "Python 3 (ipykernel)",
   "language": "python",
   "name": "python3"
  },
  "language_info": {
   "codemirror_mode": {
    "name": "ipython",
    "version": 3
   },
   "file_extension": ".py",
   "mimetype": "text/x-python",
   "name": "python",
   "nbconvert_exporter": "python",
   "pygments_lexer": "ipython3",
   "version": "3.8.12"
  }
 },
 "nbformat": 4,
 "nbformat_minor": 1
}
